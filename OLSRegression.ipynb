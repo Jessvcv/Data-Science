{
  "nbformat": 4,
  "nbformat_minor": 0,
  "metadata": {
    "colab": {
      "provenance": [],
      "mount_file_id": "1TySviWTHKU8ro732Z_38sg5vb9PezW6p",
      "authorship_tag": "ABX9TyMcRhYciEmRM9Hi8YZikD33",
      "include_colab_link": true
    },
    "kernelspec": {
      "name": "python3",
      "display_name": "Python 3"
    },
    "language_info": {
      "name": "python"
    }
  },
  "cells": [
    {
      "cell_type": "markdown",
      "metadata": {
        "id": "view-in-github",
        "colab_type": "text"
      },
      "source": [
        "<a href=\"https://colab.research.google.com/github/Jessvcv/Data-Science/blob/main/OLSRegression.ipynb\" target=\"_parent\"><img src=\"https://colab.research.google.com/assets/colab-badge.svg\" alt=\"Open In Colab\"/></a>"
      ]
    },
    {
      "cell_type": "code",
      "source": [
        "import numpy as np\n",
        "import pandas as pd\n",
        "import seaborn as sb\n",
        "import matplotlib.pyplot as plt\n",
        "from pylab import rcParams\n",
        "import scipy\n",
        "from scipy.stats import pearsonr\n",
        "import statsmodels.api as sm\n",
        "import statsmodels.formula.api as smf"
      ],
      "metadata": {
        "id": "sgAAqu_KoEN3"
      },
      "execution_count": null,
      "outputs": []
    },
    {
      "cell_type": "code",
      "execution_count": null,
      "metadata": {
        "id": "UZzrJlHwnoXL"
      },
      "outputs": [],
      "source": [
        "path = \"/content/drive/MyDrive/DSC1010_Spring2024/BostonHousing (1).csv\"\n",
        "ds = pd.read_csv(path)"
      ]
    },
    {
      "cell_type": "code",
      "source": [
        "formula = 'MEDV ~ CRIM + ZN + INDUS + CHAS + NOX + RM + AGE + DIS + TAX + PTRATIO + LSTAT'\n",
        "model = smf.ols(formula, data=ds).fit()\n",
        "print(model.summary())"
      ],
      "metadata": {
        "colab": {
          "base_uri": "https://localhost:8080/"
        },
        "id": "9yq8nOk_lHND",
        "outputId": "45d11893-27cb-455a-b722-d79df036bb72"
      },
      "execution_count": null,
      "outputs": [
        {
          "output_type": "stream",
          "name": "stdout",
          "text": [
            "                            OLS Regression Results                            \n",
            "==============================================================================\n",
            "Dep. Variable:                   MEDV   R-squared:                       0.724\n",
            "Model:                            OLS   Adj. R-squared:                  0.718\n",
            "Method:                 Least Squares   F-statistic:                     117.9\n",
            "Date:                Fri, 22 Mar 2024   Prob (F-statistic):          1.82e-130\n",
            "Time:                        17:06:58   Log-Likelihood:                -1514.3\n",
            "No. Observations:                 506   AIC:                             3053.\n",
            "Df Residuals:                     494   BIC:                             3103.\n",
            "Df Model:                          11                                         \n",
            "Covariance Type:            nonrobust                                         \n",
            "==============================================================================\n",
            "                 coef    std err          t      P>|t|      [0.025      0.975]\n",
            "------------------------------------------------------------------------------\n",
            "Intercept     34.7761      4.759      7.308      0.000      25.426      44.126\n",
            "CRIM          -0.0817      0.032     -2.532      0.012      -0.145      -0.018\n",
            "ZN             0.0405      0.014      2.887      0.004       0.013       0.068\n",
            "INDUS         -0.0610      0.061     -1.003      0.316      -0.180       0.058\n",
            "CHAS           3.2325      0.881      3.671      0.000       1.502       4.963\n",
            "NOX          -16.2862      3.876     -4.201      0.000     -23.902      -8.670\n",
            "RM             3.9617      0.422      9.394      0.000       3.133       4.790\n",
            "AGE           -0.0010      0.014     -0.077      0.938      -0.028       0.026\n",
            "DIS           -1.5032      0.205     -7.326      0.000      -1.906      -1.100\n",
            "TAX            0.0003      0.002      0.145      0.884      -0.004       0.005\n",
            "PTRATIO       -0.8305      0.132     -6.283      0.000      -1.090      -0.571\n",
            "LSTAT         -0.5416      0.052    -10.516      0.000      -0.643      -0.440\n",
            "==============================================================================\n",
            "Omnibus:                      182.269   Durbin-Watson:                   1.059\n",
            "Prob(Omnibus):                  0.000   Jarque-Bera (JB):              823.893\n",
            "Skew:                           1.551   Prob(JB):                    1.24e-179\n",
            "Kurtosis:                       8.427   Cond. No.                     1.12e+04\n",
            "==============================================================================\n",
            "\n",
            "Notes:\n",
            "[1] Standard Errors assume that the covariance matrix of the errors is correctly specified.\n",
            "[2] The condition number is large, 1.12e+04. This might indicate that there are\n",
            "strong multicollinearity or other numerical problems.\n"
          ]
        }
      ]
    },
    {
      "cell_type": "code",
      "source": [
        "final_formula = 'MEDV ~ CRIM + ZN + CHAS + NOX + RM + DIS + PTRATIO + LSTAT'\n",
        "final_model = smf.ols(final_formula, data=ds).fit()\n",
        "print(final_model.summary())"
      ],
      "metadata": {
        "colab": {
          "base_uri": "https://localhost:8080/"
        },
        "id": "V5wWnCPDcOn9",
        "outputId": "7da5326e-0865-49af-cea9-3ae0aba374f9"
      },
      "execution_count": null,
      "outputs": [
        {
          "output_type": "stream",
          "name": "stdout",
          "text": [
            "                            OLS Regression Results                            \n",
            "==============================================================================\n",
            "Dep. Variable:                   MEDV   R-squared:                       0.724\n",
            "Model:                            OLS   Adj. R-squared:                  0.719\n",
            "Method:                 Least Squares   F-statistic:                     162.7\n",
            "Date:                Fri, 22 Mar 2024   Prob (F-statistic):          1.63e-133\n",
            "Time:                        17:07:01   Log-Likelihood:                -1514.9\n",
            "No. Observations:                 506   AIC:                             3048.\n",
            "Df Residuals:                     497   BIC:                             3086.\n",
            "Df Model:                           8                                         \n",
            "Covariance Type:            nonrobust                                         \n",
            "==============================================================================\n",
            "                 coef    std err          t      P>|t|      [0.025      0.975]\n",
            "------------------------------------------------------------------------------\n",
            "Intercept     34.9998      4.574      7.651      0.000      26.013      43.987\n",
            "CRIM          -0.0804      0.030     -2.682      0.008      -0.139      -0.022\n",
            "ZN             0.0411      0.014      3.036      0.003       0.015       0.068\n",
            "CHAS           3.1705      0.875      3.625      0.000       1.452       4.889\n",
            "NOX          -17.7188      3.216     -5.509      0.000     -24.038     -11.399\n",
            "RM             4.0100      0.409      9.814      0.000       3.207       4.813\n",
            "DIS           -1.4501      0.190     -7.628      0.000      -1.824      -1.077\n",
            "PTRATIO       -0.8562      0.118     -7.243      0.000      -1.088      -0.624\n",
            "LSTAT         -0.5478      0.048    -11.366      0.000      -0.642      -0.453\n",
            "==============================================================================\n",
            "Omnibus:                      180.641   Durbin-Watson:                   1.059\n",
            "Prob(Omnibus):                  0.000   Jarque-Bera (JB):              805.080\n",
            "Skew:                           1.541   Prob(JB):                    1.51e-175\n",
            "Kurtosis:                       8.356   Cond. No.                         676.\n",
            "==============================================================================\n",
            "\n",
            "Notes:\n",
            "[1] Standard Errors assume that the covariance matrix of the errors is correctly specified.\n"
          ]
        }
      ]
    }
  ]
}